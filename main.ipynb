{
  "cells": [
    {
      "cell_type": "markdown",
      "metadata": {
        "id": "IYP3fazm9x3s"
      },
      "source": [
        "# Lab | Text Generation from Shakespeare's Sonnet\n",
        "\n",
        "This notebook explores the fascinating domain of text generation using a deep learning model trained on Shakespeare's sonnets.\n",
        "\n",
        "The objective is to create a neural network capable of generating text sequences that mimic the style and language of Shakespeare.\n",
        "\n",
        "By utilizing a Recurrent Neural Network (RNN) with Long Short-Term Memory (LSTM) layers, this project aims to demonstrate how a model can learn and replicate the complex patterns of early modern English.\n",
        "\n",
        "The dataset used consists of Shakespeare's sonnets, which are preprocessed and tokenized to serve as input for the model.\n",
        "\n",
        "Throughout this notebook, you will see the steps taken to prepare the data, build and train the model, and evaluate its performance in generating text.\n",
        "\n",
        "This lab provides a hands-on approach to understanding the intricacies of natural language processing (NLP) and the potential of machine learning in creative text generation."
      ]
    },
    {
      "cell_type": "markdown",
      "metadata": {
        "id": "OGE7wcDO9x3v"
      },
      "source": [
        "Let's import necessary libraries"
      ]
    },
    {
      "cell_type": "code",
      "execution_count": null,
      "metadata": {
        "id": "BOwsuGQQY9OL",
        "tags": []
      },
      "outputs": [],
      "source": [
        "from tensorflow.keras.preprocessing.sequence import pad_sequences\n",
        "from tensorflow.keras.layers import Embedding, LSTM, Dense, Dropout, Bidirectional\n",
        "from tensorflow.keras.preprocessing.text import Tokenizer\n",
        "from tensorflow.keras.models import Sequential\n",
        "from tensorflow.keras.optimizers import Adam\n",
        "from tensorflow.keras import regularizers\n",
        "import tensorflow.keras.utils as ku\n",
        "import numpy as np "
      ]
    },
    {
      "cell_type": "markdown",
      "metadata": {
        "id": "Q47rY6tM9x3y"
      },
      "source": [
        "Let's get the data!"
      ]
    },
    {
      "cell_type": "code",
      "execution_count": 6,
      "metadata": {
        "id": "DdTjjIQq9x3z",
        "tags": []
      },
      "outputs": [],
      "source": [
        "import requests\n",
        "url = 'https://raw.githubusercontent.com/martin-gorner/tensorflow-rnn-shakespeare/master/shakespeare/sonnets.txt'\n",
        "resp = requests.get(url)\n",
        "with open('sonnets.txt', 'wb') as f:\n",
        "    f.write(resp.content)\n",
        "\n",
        "data = open('sonnets.txt').read()\n",
        "\n",
        "corpus = data.lower().split(\"\\n\")"
      ]
    },
    {
      "cell_type": "markdown",
      "metadata": {
        "id": "qO2zjXUH9x3z"
      },
      "source": [
        "Step 1: Initialise a tokenizer and fit it on the corpus variable using .fit_on_texts"
      ]
    },
    {
      "cell_type": "code",
      "execution_count": 7,
      "metadata": {
        "colab": {
          "base_uri": "https://localhost:8080/"
        },
        "id": "NgUx6nSx9x3z",
        "outputId": "0058fadd-f6ea-4071-d32e-b25bc1f30774"
      },
      "outputs": [
        {
          "name": "stdout",
          "output_type": "stream",
          "text": [
            "Unique tokens: 3374\n"
          ]
        }
      ],
      "source": [
        "#  Initialize a Tokenizer and fit it on the corpus\n",
        "tokenizer = Tokenizer(num_words=5000)  # Limit to the 5000 most common words\n",
        "tokenizer.fit_on_texts(corpus)\n",
        "\n",
        "# print the number of unique tokens\n",
        "print(\"Unique tokens:\", len(tokenizer.word_index))"
      ]
    },
    {
      "cell_type": "markdown",
      "metadata": {
        "id": "hZiH2WfO9x3z"
      },
      "source": [
        "Step 2: Calculate the Vocabulary Size\n",
        "\n",
        "Let's figure out how many unique words are in your corpus. This will be the size of your vocabulary.\n",
        "\n",
        "Calculate the length of tokenizer.word_index, add 1 to it and store it in a variable called total_words."
      ]
    },
    {
      "cell_type": "code",
      "execution_count": 8,
      "metadata": {
        "colab": {
          "base_uri": "https://localhost:8080/"
        },
        "id": "XQwZJCsZ9x30",
        "outputId": "96ad9a32-0155-44b7-c132-de8653495305"
      },
      "outputs": [
        {
          "name": "stdout",
          "output_type": "stream",
          "text": [
            "Total vocabulary size: 3375\n"
          ]
        }
      ],
      "source": [
        "#  Calculate the Vocabulary Size\n",
        "total_words = len(tokenizer.word_index) + 1\n",
        "print(\"Total vocabulary size:\", total_words)"
      ]
    },
    {
      "cell_type": "markdown",
      "metadata": {
        "id": "y_wZI4ly9x30"
      },
      "source": [
        "Create an empty list called input_sequences.\n",
        "\n",
        "For each sentence in your corpus, convert the text into a sequence of integers using the tokenizer.\n",
        "Then, generate n-gram sequences from these tokens.\n",
        "\n",
        "Store the result in the list input_sequences."
      ]
    },
    {
      "cell_type": "code",
      "execution_count": 9,
      "metadata": {
        "id": "c3gXaaAS9x30"
      },
      "outputs": [],
      "source": [
        "# Initialize an empty list to store n-gram sequences\n",
        "input_sequences = []\n",
        "\n",
        "# Loop through each sentence in the corpus\n",
        "for sentence in corpus:\n",
        "    # Convert the sentence into a list of numerical tokens\n",
        "    token_list = tokenizer.texts_to_sequences([sentence])[0]\n",
        "\n",
        "    # Loop through the token list to create n-gram sequences\n",
        "    for i in range(1, len(token_list)):\n",
        "        # Generate an n-gram sequence by slicing from the start up to the (i+1)th token\n",
        "        n_gram_sequence = token_list[:i+1]\n",
        "\n",
        "        # Append the generated n-gram sequence to the list of input sequences\n",
        "        input_sequences.append(n_gram_sequence)"
      ]
    },
    {
      "cell_type": "markdown",
      "metadata": {
        "id": "MaeTi3569x30"
      },
      "source": [
        "Calculate the length of the longest sequence in input_sequences. Assign the result to a variable called max_sequence_len.\n",
        "\n",
        "Now pad the sequences using pad_sequences(input_sequences, maxlen=max_sequence_len, padding='pre').\n",
        "Convert it to a numpy array and assign the result back to our variable called input_sequences."
      ]
    },
    {
      "cell_type": "code",
      "execution_count": 10,
      "metadata": {
        "id": "73hVah9c9x30"
      },
      "outputs": [],
      "source": [
        "# Step 1: Find the longest sequence length\n",
        "max_sequence_len = max(len(seq) for seq in input_sequences)\n",
        "\n",
        "# Step 2: Pad all sequences to ensure uniform length\n",
        "input_sequences = pad_sequences(input_sequences,\n",
        "                                maxlen=max_sequence_len,\n",
        "                                padding='pre')\n",
        "\n",
        "# Step 3: Convert the padded sequences into a NumPy array\n",
        "input_sequences = np.array(input_sequences)"
      ]
    },
    {
      "cell_type": "markdown",
      "metadata": {
        "id": "2med_u5g9x30"
      },
      "source": [
        "Prepare Predictors and Labels\n",
        "\n",
        "Split the sequences into two parts:\n",
        "\n",
        "- Predictors: All elements from input_sequences except the last one.\n",
        "- Labels: The last element of each sequence in input_sequences."
      ]
    },
    {
      "cell_type": "code",
      "execution_count": 11,
      "metadata": {
        "id": "PRnDnCW-Z7qv",
        "tags": []
      },
      "outputs": [],
      "source": [
        "# Step 1: Split sequences into predictors and labels\n",
        "X = input_sequences[:, :-1]  # All elements except the last one\n",
        "y = input_sequences[:, -1]   # Only the last element\n",
        "\n"
      ]
    },
    {
      "cell_type": "markdown",
      "metadata": {
        "id": "AOnm1VyP9x31"
      },
      "source": [
        "One-Hot Encode the Labels :\n",
        "\n",
        "Convert the labels (which are integers) into one-hot encoded vectors.\n",
        "\n",
        "Ensure the length of these vectors matches the total number of unique words in your vocabulary.\n",
        "\n",
        "Use ku.to_categorical() on labels with num_classes = total_words\n",
        "\n",
        "Assign the result back to our variable labels."
      ]
    },
    {
      "cell_type": "code",
      "execution_count": 12,
      "metadata": {
        "id": "VqAKSXFc9x31"
      },
      "outputs": [],
      "source": [
        "# Step 2: Convert labels (y) into categorical format\n",
        "y = ku.to_categorical(y, num_classes=total_words)  # One-hot encoding"
      ]
    },
    {
      "cell_type": "markdown",
      "metadata": {
        "id": "Mz1kqIzK9x31"
      },
      "source": [
        "# Initialize the Model\n",
        "\n",
        "Start by creating a Sequential model.\n",
        "\n",
        "Add Layers to the Model:\n",
        "\n",
        "Embedding Layer: The first layer is an embedding layer. It converts word indices into dense vectors of fixed size (100 in this case). Set the input length to the maximum sequence length minus one, which corresponds to the number of previous words the model will consider when predicting the next word.\n",
        "\n",
        "Bidirectional LSTM Layer: Add a Bidirectional LSTM layer with 150 units. This layer allows the model to learn context from both directions (past and future) in the sequence. return_sequences=True\n",
        "\n",
        "Dropout Layer: Add a dropout layer with a rate of 0.2 to prevent overfitting by randomly setting 20% of the input units to 0 during training.\n",
        "\n",
        "LSTM Layer: Add a second LSTM layer with 100 units. This layer processes the sequence and passes its output to the next layer.\n",
        "\n",
        "Dense Layer (Intermediate): Add a dense layer with half the total number of words as units, using ReLU activation. A regularization term (L2) is added to prevent overfitting.\n",
        "\n",
        "Dense Layer (Output): The final dense layer has as many units as there are words in the vocabulary, with a softmax activation function to output a probability distribution over all words."
      ]
    },
    {
      "cell_type": "code",
      "execution_count": 13,
      "metadata": {
        "colab": {
          "base_uri": "https://localhost:8080/"
        },
        "id": "UVKZKNgB9x31",
        "outputId": "e421aa77-2ec4-4154-ee93-4658d9ce466c"
      },
      "outputs": [
        {
          "name": "stderr",
          "output_type": "stream",
          "text": [
            "/usr/local/lib/python3.11/dist-packages/keras/src/layers/core/embedding.py:90: UserWarning: Argument `input_length` is deprecated. Just remove it.\n",
            "  warnings.warn(\n"
          ]
        }
      ],
      "source": [
        "model = Sequential([\n",
        "\n",
        "    # Embedding Layer\n",
        "    Embedding(input_dim=total_words,  # Vocabulary size\n",
        "              output_dim=100,         # Each word is mapped to a 100-dimensional vector\n",
        "              input_length=max_sequence_len - 1),  # Number of words used as input\n",
        "    # LSTM Layer\n",
        "    LSTM(150, return_sequences=True),  # LSTM with 150 units, return sequences for stacking\n",
        "\n",
        "    #Dropout Layer (Prevents Overfitting)\n",
        "    Dropout(0.2),\n",
        "\n",
        "    # Another LSTM Layer (optional but improves performance)\n",
        "    LSTM(100),  # Second LSTM layer with 100 units\n",
        "\n",
        "    # Intermediate Dense Layer with L2 Regularization\n",
        "    Dense(total_words // 2, activation=\"relu\",  # Uses ReLU for better feature learning\n",
        "          kernel_regularizer=regularizers.l2(0.01)),  # L2 regularization (reduces overfitting)\n",
        "\n",
        "    # Final Dense Output Layer\n",
        "    Dense(total_words, activation=\"softmax\")  # Outputs probability distribution over all words\n",
        "])"
      ]
    },
    {
      "cell_type": "markdown",
      "metadata": {
        "id": "5ORcb-Iw9x31"
      },
      "source": [
        "# Compile the Model:\n",
        "\n",
        "Compile the model using categorical crossentropy as the loss function, the Adam optimizer for efficient training, and accuracy as the metric to evaluate during training."
      ]
    },
    {
      "cell_type": "code",
      "execution_count": 14,
      "metadata": {
        "id": "u3X0J0KL9x31"
      },
      "outputs": [],
      "source": [
        "# Compile the model\n",
        "model.compile(loss='categorical_crossentropy',  # Loss function for multi-class classification\n",
        "              optimizer=Adam(learning_rate=0.001),  # Adam optimizer with learning rate 0.01\n",
        "              metrics=['accuracy'])  # Accuracy as evaluation metric"
      ]
    },
    {
      "cell_type": "markdown",
      "metadata": {
        "id": "t-iZSvKn9x32"
      },
      "source": [
        "# Print Model Summary:\n",
        "\n",
        "Use model.summary() to print a summary of the model, which shows the layers, their output shapes, and the number of parameters."
      ]
    },
    {
      "cell_type": "code",
      "execution_count": 15,
      "metadata": {
        "colab": {
          "base_uri": "https://localhost:8080/",
          "height": 340
        },
        "id": "lvq89___9x32",
        "outputId": "33a90547-ee34-4baf-fff4-71291ef11029"
      },
      "outputs": [
        {
          "data": {
            "text/html": [
              "<pre style=\"white-space:pre;overflow-x:auto;line-height:normal;font-family:Menlo,'DejaVu Sans Mono',consolas,'Courier New',monospace\"><span style=\"font-weight: bold\">Model: \"sequential\"</span>\n",
              "</pre>\n"
            ],
            "text/plain": [
              "\u001b[1mModel: \"sequential\"\u001b[0m\n"
            ]
          },
          "metadata": {},
          "output_type": "display_data"
        },
        {
          "data": {
            "text/html": [
              "<pre style=\"white-space:pre;overflow-x:auto;line-height:normal;font-family:Menlo,'DejaVu Sans Mono',consolas,'Courier New',monospace\">┏━━━━━━━━━━━━━━━━━━━━━━━━━━━━━━━━━━━━━━┳━━━━━━━━━━━━━━━━━━━━━━━━━━━━━┳━━━━━━━━━━━━━━━━━┓\n",
              "┃<span style=\"font-weight: bold\"> Layer (type)                         </span>┃<span style=\"font-weight: bold\"> Output Shape                </span>┃<span style=\"font-weight: bold\">         Param # </span>┃\n",
              "┡━━━━━━━━━━━━━━━━━━━━━━━━━━━━━━━━━━━━━━╇━━━━━━━━━━━━━━━━━━━━━━━━━━━━━╇━━━━━━━━━━━━━━━━━┩\n",
              "│ embedding (<span style=\"color: #0087ff; text-decoration-color: #0087ff\">Embedding</span>)                │ ?                           │     <span style=\"color: #00af00; text-decoration-color: #00af00\">0</span> (unbuilt) │\n",
              "├──────────────────────────────────────┼─────────────────────────────┼─────────────────┤\n",
              "│ lstm (<span style=\"color: #0087ff; text-decoration-color: #0087ff\">LSTM</span>)                          │ ?                           │     <span style=\"color: #00af00; text-decoration-color: #00af00\">0</span> (unbuilt) │\n",
              "├──────────────────────────────────────┼─────────────────────────────┼─────────────────┤\n",
              "│ dropout (<span style=\"color: #0087ff; text-decoration-color: #0087ff\">Dropout</span>)                    │ ?                           │               <span style=\"color: #00af00; text-decoration-color: #00af00\">0</span> │\n",
              "├──────────────────────────────────────┼─────────────────────────────┼─────────────────┤\n",
              "│ lstm_1 (<span style=\"color: #0087ff; text-decoration-color: #0087ff\">LSTM</span>)                        │ ?                           │     <span style=\"color: #00af00; text-decoration-color: #00af00\">0</span> (unbuilt) │\n",
              "├──────────────────────────────────────┼─────────────────────────────┼─────────────────┤\n",
              "│ dense (<span style=\"color: #0087ff; text-decoration-color: #0087ff\">Dense</span>)                        │ ?                           │     <span style=\"color: #00af00; text-decoration-color: #00af00\">0</span> (unbuilt) │\n",
              "├──────────────────────────────────────┼─────────────────────────────┼─────────────────┤\n",
              "│ dense_1 (<span style=\"color: #0087ff; text-decoration-color: #0087ff\">Dense</span>)                      │ ?                           │     <span style=\"color: #00af00; text-decoration-color: #00af00\">0</span> (unbuilt) │\n",
              "└──────────────────────────────────────┴─────────────────────────────┴─────────────────┘\n",
              "</pre>\n"
            ],
            "text/plain": [
              "┏━━━━━━━━━━━━━━━━━━━━━━━━━━━━━━━━━━━━━━┳━━━━━━━━━━━━━━━━━━━━━━━━━━━━━┳━━━━━━━━━━━━━━━━━┓\n",
              "┃\u001b[1m \u001b[0m\u001b[1mLayer (type)                        \u001b[0m\u001b[1m \u001b[0m┃\u001b[1m \u001b[0m\u001b[1mOutput Shape               \u001b[0m\u001b[1m \u001b[0m┃\u001b[1m \u001b[0m\u001b[1m        Param #\u001b[0m\u001b[1m \u001b[0m┃\n",
              "┡━━━━━━━━━━━━━━━━━━━━━━━━━━━━━━━━━━━━━━╇━━━━━━━━━━━━━━━━━━━━━━━━━━━━━╇━━━━━━━━━━━━━━━━━┩\n",
              "│ embedding (\u001b[38;5;33mEmbedding\u001b[0m)                │ ?                           │     \u001b[38;5;34m0\u001b[0m (unbuilt) │\n",
              "├──────────────────────────────────────┼─────────────────────────────┼─────────────────┤\n",
              "│ lstm (\u001b[38;5;33mLSTM\u001b[0m)                          │ ?                           │     \u001b[38;5;34m0\u001b[0m (unbuilt) │\n",
              "├──────────────────────────────────────┼─────────────────────────────┼─────────────────┤\n",
              "│ dropout (\u001b[38;5;33mDropout\u001b[0m)                    │ ?                           │               \u001b[38;5;34m0\u001b[0m │\n",
              "├──────────────────────────────────────┼─────────────────────────────┼─────────────────┤\n",
              "│ lstm_1 (\u001b[38;5;33mLSTM\u001b[0m)                        │ ?                           │     \u001b[38;5;34m0\u001b[0m (unbuilt) │\n",
              "├──────────────────────────────────────┼─────────────────────────────┼─────────────────┤\n",
              "│ dense (\u001b[38;5;33mDense\u001b[0m)                        │ ?                           │     \u001b[38;5;34m0\u001b[0m (unbuilt) │\n",
              "├──────────────────────────────────────┼─────────────────────────────┼─────────────────┤\n",
              "│ dense_1 (\u001b[38;5;33mDense\u001b[0m)                      │ ?                           │     \u001b[38;5;34m0\u001b[0m (unbuilt) │\n",
              "└──────────────────────────────────────┴─────────────────────────────┴─────────────────┘\n"
            ]
          },
          "metadata": {},
          "output_type": "display_data"
        },
        {
          "data": {
            "text/html": [
              "<pre style=\"white-space:pre;overflow-x:auto;line-height:normal;font-family:Menlo,'DejaVu Sans Mono',consolas,'Courier New',monospace\"><span style=\"font-weight: bold\"> Total params: </span><span style=\"color: #00af00; text-decoration-color: #00af00\">0</span> (0.00 B)\n",
              "</pre>\n"
            ],
            "text/plain": [
              "\u001b[1m Total params: \u001b[0m\u001b[38;5;34m0\u001b[0m (0.00 B)\n"
            ]
          },
          "metadata": {},
          "output_type": "display_data"
        },
        {
          "data": {
            "text/html": [
              "<pre style=\"white-space:pre;overflow-x:auto;line-height:normal;font-family:Menlo,'DejaVu Sans Mono',consolas,'Courier New',monospace\"><span style=\"font-weight: bold\"> Trainable params: </span><span style=\"color: #00af00; text-decoration-color: #00af00\">0</span> (0.00 B)\n",
              "</pre>\n"
            ],
            "text/plain": [
              "\u001b[1m Trainable params: \u001b[0m\u001b[38;5;34m0\u001b[0m (0.00 B)\n"
            ]
          },
          "metadata": {},
          "output_type": "display_data"
        },
        {
          "data": {
            "text/html": [
              "<pre style=\"white-space:pre;overflow-x:auto;line-height:normal;font-family:Menlo,'DejaVu Sans Mono',consolas,'Courier New',monospace\"><span style=\"font-weight: bold\"> Non-trainable params: </span><span style=\"color: #00af00; text-decoration-color: #00af00\">0</span> (0.00 B)\n",
              "</pre>\n"
            ],
            "text/plain": [
              "\u001b[1m Non-trainable params: \u001b[0m\u001b[38;5;34m0\u001b[0m (0.00 B)\n"
            ]
          },
          "metadata": {},
          "output_type": "display_data"
        }
      ],
      "source": [
        "model.summary()"
      ]
    },
    {
      "cell_type": "markdown",
      "metadata": {
        "id": "vQ-xTpwY9x32"
      },
      "source": [
        "# Now train the model for 50 epochs and assign it to a variable called history.\n",
        "\n",
        "Training the model with 50 epochs should get you around 40% accuracy.\n",
        "\n",
        "You can train the model for as many epochs as you like depending on the time and computing constraints you are facing. Ideally train it for a larger amount of epochs than 50.\n",
        "\n",
        "That way you will get better text generation at the end.\n",
        "\n",
        "However, dont waste your time."
      ]
    },
    {
      "cell_type": "code",
      "execution_count": 16,
      "metadata": {
        "id": "-DX_k_Ahc2QC"
      },
      "outputs": [],
      "source": [
        "from tensorflow.keras.callbacks import ReduceLROnPlateau\n",
        "reduce_lr = ReduceLROnPlateau(monitor='loss',  # Monitor loss to reduce LR when needed\n",
        "                              factor=0.5,      # Reduce LR by 50% when triggered\n",
        "                              patience=1,      # Wait 5 epochs before reducing\n",
        "                              min_lr=0.00001)   # Minimum learning rate allowed\n"
      ]
    },
    {
      "cell_type": "code",
      "execution_count": 25,
      "metadata": {
        "colab": {
          "base_uri": "https://localhost:8080/"
        },
        "id": "AIg2f1HBxqof",
        "outputId": "f7cdd7b3-e880-405d-cf1f-d5d34aaa3c67",
        "tags": []
      },
      "outputs": [
        {
          "name": "stdout",
          "output_type": "stream",
          "text": [
            "Epoch 1/55\n",
            "\u001b[1m484/484\u001b[0m \u001b[32m━━━━━━━━━━━━━━━━━━━━\u001b[0m\u001b[37m\u001b[0m \u001b[1m66s\u001b[0m 135ms/step - accuracy: 0.0229 - loss: 6.5079 - learning_rate: 0.0010\n",
            "Epoch 2/55\n",
            "\u001b[1m484/484\u001b[0m \u001b[32m━━━━━━━━━━━━━━━━━━━━\u001b[0m\u001b[37m\u001b[0m \u001b[1m63s\u001b[0m 131ms/step - accuracy: 0.0193 - loss: 6.4545 - learning_rate: 0.0010\n",
            "Epoch 3/55\n",
            "\u001b[1m484/484\u001b[0m \u001b[32m━━━━━━━━━━━━━━━━━━━━\u001b[0m\u001b[37m\u001b[0m \u001b[1m83s\u001b[0m 134ms/step - accuracy: 0.0246 - loss: 6.3461 - learning_rate: 0.0010\n",
            "Epoch 4/55\n",
            "\u001b[1m484/484\u001b[0m \u001b[32m━━━━━━━━━━━━━━━━━━━━\u001b[0m\u001b[37m\u001b[0m \u001b[1m81s\u001b[0m 131ms/step - accuracy: 0.0299 - loss: 6.2731 - learning_rate: 0.0010\n",
            "Epoch 5/55\n",
            "\u001b[1m484/484\u001b[0m \u001b[32m━━━━━━━━━━━━━━━━━━━━\u001b[0m\u001b[37m\u001b[0m \u001b[1m62s\u001b[0m 129ms/step - accuracy: 0.0367 - loss: 6.1609 - learning_rate: 0.0010\n",
            "Epoch 6/55\n",
            "\u001b[1m484/484\u001b[0m \u001b[32m━━━━━━━━━━━━━━━━━━━━\u001b[0m\u001b[37m\u001b[0m \u001b[1m82s\u001b[0m 129ms/step - accuracy: 0.0396 - loss: 6.0796 - learning_rate: 0.0010\n",
            "Epoch 7/55\n",
            "\u001b[1m484/484\u001b[0m \u001b[32m━━━━━━━━━━━━━━━━━━━━\u001b[0m\u001b[37m\u001b[0m \u001b[1m62s\u001b[0m 129ms/step - accuracy: 0.0415 - loss: 5.9938 - learning_rate: 0.0010\n",
            "Epoch 8/55\n",
            "\u001b[1m484/484\u001b[0m \u001b[32m━━━━━━━━━━━━━━━━━━━━\u001b[0m\u001b[37m\u001b[0m \u001b[1m82s\u001b[0m 130ms/step - accuracy: 0.0419 - loss: 5.9479 - learning_rate: 0.0010\n",
            "Epoch 9/55\n",
            "\u001b[1m484/484\u001b[0m \u001b[32m━━━━━━━━━━━━━━━━━━━━\u001b[0m\u001b[37m\u001b[0m \u001b[1m80s\u001b[0m 127ms/step - accuracy: 0.0437 - loss: 5.8859 - learning_rate: 0.0010\n",
            "Epoch 10/55\n",
            "\u001b[1m484/484\u001b[0m \u001b[32m━━━━━━━━━━━━━━━━━━━━\u001b[0m\u001b[37m\u001b[0m \u001b[1m62s\u001b[0m 127ms/step - accuracy: 0.0470 - loss: 5.8377 - learning_rate: 0.0010\n",
            "Epoch 11/55\n",
            "\u001b[1m484/484\u001b[0m \u001b[32m━━━━━━━━━━━━━━━━━━━━\u001b[0m\u001b[37m\u001b[0m \u001b[1m60s\u001b[0m 124ms/step - accuracy: 0.0498 - loss: 5.8017 - learning_rate: 0.0010\n",
            "Epoch 12/55\n",
            "\u001b[1m484/484\u001b[0m \u001b[32m━━━━━━━━━━━━━━━━━━━━\u001b[0m\u001b[37m\u001b[0m \u001b[1m83s\u001b[0m 125ms/step - accuracy: 0.0553 - loss: 5.7022 - learning_rate: 0.0010\n",
            "Epoch 13/55\n",
            "\u001b[1m484/484\u001b[0m \u001b[32m━━━━━━━━━━━━━━━━━━━━\u001b[0m\u001b[37m\u001b[0m \u001b[1m71s\u001b[0m 147ms/step - accuracy: 0.0595 - loss: 5.6186 - learning_rate: 0.0010\n",
            "Epoch 14/55\n",
            "\u001b[1m484/484\u001b[0m \u001b[32m━━━━━━━━━━━━━━━━━━━━\u001b[0m\u001b[37m\u001b[0m \u001b[1m73s\u001b[0m 128ms/step - accuracy: 0.0631 - loss: 5.5478 - learning_rate: 0.0010\n",
            "Epoch 15/55\n",
            "\u001b[1m484/484\u001b[0m \u001b[32m━━━━━━━━━━━━━━━━━━━━\u001b[0m\u001b[37m\u001b[0m \u001b[1m82s\u001b[0m 129ms/step - accuracy: 0.0667 - loss: 5.4814 - learning_rate: 0.0010\n",
            "Epoch 16/55\n",
            "\u001b[1m484/484\u001b[0m \u001b[32m━━━━━━━━━━━━━━━━━━━━\u001b[0m\u001b[37m\u001b[0m \u001b[1m80s\u001b[0m 125ms/step - accuracy: 0.0700 - loss: 5.4051 - learning_rate: 0.0010\n",
            "Epoch 17/55\n",
            "\u001b[1m484/484\u001b[0m \u001b[32m━━━━━━━━━━━━━━━━━━━━\u001b[0m\u001b[37m\u001b[0m \u001b[1m85s\u001b[0m 130ms/step - accuracy: 0.0754 - loss: 5.3318 - learning_rate: 0.0010\n",
            "Epoch 18/55\n",
            "\u001b[1m484/484\u001b[0m \u001b[32m━━━━━━━━━━━━━━━━━━━━\u001b[0m\u001b[37m\u001b[0m \u001b[1m80s\u001b[0m 126ms/step - accuracy: 0.0760 - loss: 5.2636 - learning_rate: 0.0010\n",
            "Epoch 19/55\n",
            "\u001b[1m484/484\u001b[0m \u001b[32m━━━━━━━━━━━━━━━━━━━━\u001b[0m\u001b[37m\u001b[0m \u001b[1m64s\u001b[0m 131ms/step - accuracy: 0.0803 - loss: 5.1992 - learning_rate: 0.0010\n",
            "Epoch 20/55\n",
            "\u001b[1m484/484\u001b[0m \u001b[32m━━━━━━━━━━━━━━━━━━━━\u001b[0m\u001b[37m\u001b[0m \u001b[1m78s\u001b[0m 124ms/step - accuracy: 0.0844 - loss: 5.1181 - learning_rate: 0.0010\n",
            "Epoch 21/55\n",
            "\u001b[1m484/484\u001b[0m \u001b[32m━━━━━━━━━━━━━━━━━━━━\u001b[0m\u001b[37m\u001b[0m \u001b[1m68s\u001b[0m 140ms/step - accuracy: 0.0873 - loss: 5.0348 - learning_rate: 0.0010\n",
            "Epoch 22/55\n",
            "\u001b[1m484/484\u001b[0m \u001b[32m━━━━━━━━━━━━━━━━━━━━\u001b[0m\u001b[37m\u001b[0m \u001b[1m75s\u001b[0m 124ms/step - accuracy: 0.0949 - loss: 4.9900 - learning_rate: 0.0010\n",
            "Epoch 23/55\n",
            "\u001b[1m484/484\u001b[0m \u001b[32m━━━━━━━━━━━━━━━━━━━━\u001b[0m\u001b[37m\u001b[0m \u001b[1m63s\u001b[0m 130ms/step - accuracy: 0.1018 - loss: 4.9211 - learning_rate: 0.0010\n",
            "Epoch 24/55\n",
            "\u001b[1m484/484\u001b[0m \u001b[32m━━━━━━━━━━━━━━━━━━━━\u001b[0m\u001b[37m\u001b[0m \u001b[1m79s\u001b[0m 124ms/step - accuracy: 0.1104 - loss: 4.8270 - learning_rate: 0.0010\n",
            "Epoch 25/55\n",
            "\u001b[1m484/484\u001b[0m \u001b[32m━━━━━━━━━━━━━━━━━━━━\u001b[0m\u001b[37m\u001b[0m \u001b[1m83s\u001b[0m 126ms/step - accuracy: 0.1130 - loss: 4.7986 - learning_rate: 0.0010\n",
            "Epoch 26/55\n",
            "\u001b[1m484/484\u001b[0m \u001b[32m━━━━━━━━━━━━━━━━━━━━\u001b[0m\u001b[37m\u001b[0m \u001b[1m82s\u001b[0m 125ms/step - accuracy: 0.1098 - loss: 4.7187 - learning_rate: 0.0010\n",
            "Epoch 27/55\n",
            "\u001b[1m484/484\u001b[0m \u001b[32m━━━━━━━━━━━━━━━━━━━━\u001b[0m\u001b[37m\u001b[0m \u001b[1m61s\u001b[0m 126ms/step - accuracy: 0.1261 - loss: 4.6116 - learning_rate: 0.0010\n",
            "Epoch 28/55\n",
            "\u001b[1m484/484\u001b[0m \u001b[32m━━━━━━━━━━━━━━━━━━━━\u001b[0m\u001b[37m\u001b[0m \u001b[1m81s\u001b[0m 123ms/step - accuracy: 0.1302 - loss: 4.5532 - learning_rate: 0.0010\n",
            "Epoch 29/55\n",
            "\u001b[1m484/484\u001b[0m \u001b[32m━━━━━━━━━━━━━━━━━━━━\u001b[0m\u001b[37m\u001b[0m \u001b[1m87s\u001b[0m 133ms/step - accuracy: 0.1371 - loss: 4.4825 - learning_rate: 0.0010\n",
            "Epoch 30/55\n",
            "\u001b[1m484/484\u001b[0m \u001b[32m━━━━━━━━━━━━━━━━━━━━\u001b[0m\u001b[37m\u001b[0m \u001b[1m75s\u001b[0m 119ms/step - accuracy: 0.1391 - loss: 4.4617 - learning_rate: 0.0010\n",
            "Epoch 31/55\n",
            "\u001b[1m484/484\u001b[0m \u001b[32m━━━━━━━━━━━━━━━━━━━━\u001b[0m\u001b[37m\u001b[0m \u001b[1m82s\u001b[0m 119ms/step - accuracy: 0.1493 - loss: 4.3758 - learning_rate: 0.0010\n",
            "Epoch 32/55\n",
            "\u001b[1m484/484\u001b[0m \u001b[32m━━━━━━━━━━━━━━━━━━━━\u001b[0m\u001b[37m\u001b[0m \u001b[1m83s\u001b[0m 121ms/step - accuracy: 0.1483 - loss: 4.3283 - learning_rate: 0.0010\n",
            "Epoch 33/55\n",
            "\u001b[1m484/484\u001b[0m \u001b[32m━━━━━━━━━━━━━━━━━━━━\u001b[0m\u001b[37m\u001b[0m \u001b[1m58s\u001b[0m 119ms/step - accuracy: 0.1618 - loss: 4.2315 - learning_rate: 0.0010\n",
            "Epoch 34/55\n",
            "\u001b[1m484/484\u001b[0m \u001b[32m━━━━━━━━━━━━━━━━━━━━\u001b[0m\u001b[37m\u001b[0m \u001b[1m60s\u001b[0m 123ms/step - accuracy: 0.1697 - loss: 4.1788 - learning_rate: 0.0010\n",
            "Epoch 35/55\n",
            "\u001b[1m484/484\u001b[0m \u001b[32m━━━━━━━━━━━━━━━━━━━━\u001b[0m\u001b[37m\u001b[0m \u001b[1m81s\u001b[0m 122ms/step - accuracy: 0.1719 - loss: 4.1057 - learning_rate: 0.0010\n",
            "Epoch 36/55\n",
            "\u001b[1m484/484\u001b[0m \u001b[32m━━━━━━━━━━━━━━━━━━━━\u001b[0m\u001b[37m\u001b[0m \u001b[1m80s\u001b[0m 118ms/step - accuracy: 0.1809 - loss: 4.0691 - learning_rate: 0.0010\n",
            "Epoch 37/55\n",
            "\u001b[1m484/484\u001b[0m \u001b[32m━━━━━━━━━━━━━━━━━━━━\u001b[0m\u001b[37m\u001b[0m \u001b[1m58s\u001b[0m 121ms/step - accuracy: 0.1933 - loss: 3.9830 - learning_rate: 0.0010\n",
            "Epoch 38/55\n",
            "\u001b[1m484/484\u001b[0m \u001b[32m━━━━━━━━━━━━━━━━━━━━\u001b[0m\u001b[37m\u001b[0m \u001b[1m58s\u001b[0m 119ms/step - accuracy: 0.1981 - loss: 3.9152 - learning_rate: 0.0010\n",
            "Epoch 39/55\n",
            "\u001b[1m484/484\u001b[0m \u001b[32m━━━━━━━━━━━━━━━━━━━━\u001b[0m\u001b[37m\u001b[0m \u001b[1m86s\u001b[0m 128ms/step - accuracy: 0.2107 - loss: 3.8826 - learning_rate: 0.0010\n",
            "Epoch 40/55\n",
            "\u001b[1m484/484\u001b[0m \u001b[32m━━━━━━━━━━━━━━━━━━━━\u001b[0m\u001b[37m\u001b[0m \u001b[1m78s\u001b[0m 119ms/step - accuracy: 0.2228 - loss: 3.7965 - learning_rate: 0.0010\n",
            "Epoch 41/55\n",
            "\u001b[1m484/484\u001b[0m \u001b[32m━━━━━━━━━━━━━━━━━━━━\u001b[0m\u001b[37m\u001b[0m \u001b[1m83s\u001b[0m 122ms/step - accuracy: 0.2286 - loss: 3.7741 - learning_rate: 0.0010\n",
            "Epoch 42/55\n",
            "\u001b[1m484/484\u001b[0m \u001b[32m━━━━━━━━━━━━━━━━━━━━\u001b[0m\u001b[37m\u001b[0m \u001b[1m82s\u001b[0m 121ms/step - accuracy: 0.2410 - loss: 3.7097 - learning_rate: 0.0010\n",
            "Epoch 43/55\n",
            "\u001b[1m484/484\u001b[0m \u001b[32m━━━━━━━━━━━━━━━━━━━━\u001b[0m\u001b[37m\u001b[0m \u001b[1m84s\u001b[0m 125ms/step - accuracy: 0.2499 - loss: 3.6442 - learning_rate: 0.0010\n",
            "Epoch 44/55\n",
            "\u001b[1m484/484\u001b[0m \u001b[32m━━━━━━━━━━━━━━━━━━━━\u001b[0m\u001b[37m\u001b[0m \u001b[1m80s\u001b[0m 122ms/step - accuracy: 0.2522 - loss: 3.6164 - learning_rate: 0.0010\n",
            "Epoch 45/55\n",
            "\u001b[1m484/484\u001b[0m \u001b[32m━━━━━━━━━━━━━━━━━━━━\u001b[0m\u001b[37m\u001b[0m \u001b[1m81s\u001b[0m 120ms/step - accuracy: 0.2670 - loss: 3.5773 - learning_rate: 0.0010\n",
            "Epoch 46/55\n",
            "\u001b[1m484/484\u001b[0m \u001b[32m━━━━━━━━━━━━━━━━━━━━\u001b[0m\u001b[37m\u001b[0m \u001b[1m83s\u001b[0m 123ms/step - accuracy: 0.2747 - loss: 3.4934 - learning_rate: 0.0010\n",
            "Epoch 47/55\n",
            "\u001b[1m484/484\u001b[0m \u001b[32m━━━━━━━━━━━━━━━━━━━━\u001b[0m\u001b[37m\u001b[0m \u001b[1m81s\u001b[0m 122ms/step - accuracy: 0.2762 - loss: 3.4723 - learning_rate: 0.0010\n",
            "Epoch 48/55\n",
            "\u001b[1m484/484\u001b[0m \u001b[32m━━━━━━━━━━━━━━━━━━━━\u001b[0m\u001b[37m\u001b[0m \u001b[1m82s\u001b[0m 123ms/step - accuracy: 0.2964 - loss: 3.3842 - learning_rate: 0.0010\n",
            "Epoch 49/55\n",
            "\u001b[1m484/484\u001b[0m \u001b[32m━━━━━━━━━━━━━━━━━━━━\u001b[0m\u001b[37m\u001b[0m \u001b[1m81s\u001b[0m 121ms/step - accuracy: 0.2996 - loss: 3.3784 - learning_rate: 0.0010\n",
            "Epoch 50/55\n",
            "\u001b[1m484/484\u001b[0m \u001b[32m━━━━━━━━━━━━━━━━━━━━\u001b[0m\u001b[37m\u001b[0m \u001b[1m82s\u001b[0m 120ms/step - accuracy: 0.3106 - loss: 3.3424 - learning_rate: 0.0010\n",
            "Epoch 51/55\n",
            "\u001b[1m484/484\u001b[0m \u001b[32m━━━━━━━━━━━━━━━━━━━━\u001b[0m\u001b[37m\u001b[0m \u001b[1m60s\u001b[0m 124ms/step - accuracy: 0.3095 - loss: 3.3064 - learning_rate: 0.0010\n",
            "Epoch 52/55\n",
            "\u001b[1m484/484\u001b[0m \u001b[32m━━━━━━━━━━━━━━━━━━━━\u001b[0m\u001b[37m\u001b[0m \u001b[1m80s\u001b[0m 120ms/step - accuracy: 0.3200 - loss: 3.2776 - learning_rate: 0.0010\n",
            "Epoch 53/55\n",
            "\u001b[1m484/484\u001b[0m \u001b[32m━━━━━━━━━━━━━━━━━━━━\u001b[0m\u001b[37m\u001b[0m \u001b[1m84s\u001b[0m 124ms/step - accuracy: 0.3392 - loss: 3.1827 - learning_rate: 0.0010\n",
            "Epoch 54/55\n",
            "\u001b[1m484/484\u001b[0m \u001b[32m━━━━━━━━━━━━━━━━━━━━\u001b[0m\u001b[37m\u001b[0m \u001b[1m61s\u001b[0m 126ms/step - accuracy: 0.3477 - loss: 3.1572 - learning_rate: 0.0010\n",
            "Epoch 55/55\n",
            "\u001b[1m484/484\u001b[0m \u001b[32m━━━━━━━━━━━━━━━━━━━━\u001b[0m\u001b[37m\u001b[0m \u001b[1m79s\u001b[0m 120ms/step - accuracy: 0.3522 - loss: 3.1159 - learning_rate: 0.0010\n"
          ]
        }
      ],
      "source": [
        "# Train the model for 55 epochs\n",
        "history = model.fit(X, y,\n",
        "                    epochs=55,\n",
        "                    batch_size=32,\n",
        "                    verbose=1,\n",
        "                    callbacks=[reduce_lr] )"
      ]
    },
    {
      "cell_type": "markdown",
      "metadata": {
        "id": "xqCucA4v9x32"
      },
      "source": [
        "# Use plt from matplotlib to plot the training accuracy over epochs and the loss over epochs"
      ]
    },
    {
      "cell_type": "markdown",
      "metadata": {
        "id": "P_Uwj0OQ9x32"
      },
      "source": [
        "First you will have to get the accuracy and loss data over epochs, you can do this by using methods on your model."
      ]
    },
    {
      "cell_type": "code",
      "execution_count": 26,
      "metadata": {
        "colab": {
          "base_uri": "https://localhost:8080/",
          "height": 386
        },
        "id": "1fXTEO3GJ282",
        "outputId": "4602761a-b0c3-4238-ed75-dc4d4650f473",
        "tags": []
      },
      "outputs": [
        {
          "data": {
            "image/png": "[encoded data removed]",
            "text/plain": [
              "<Figure size 1000x400 with 2 Axes>"
            ]
          },
          "metadata": {},
          "output_type": "display_data"
        }
      ],
      "source": [
        "# Extract accuracy and loss from training history\n",
        "acc = history.history['accuracy']\n",
        "loss = history.history['loss']\n",
        "epochs = range(1, len(acc) + 1)  # Generate epoch numbers\n",
        "\n",
        "import matplotlib.pyplot as plt\n",
        "\n",
        "# Plot Accuracy Over Epochs\n",
        "plt.figure(figsize=(10, 4))  # Set figure size\n",
        "\n",
        "plt.subplot(1, 2, 1)  # First subplot for accuracy\n",
        "plt.plot(epochs, acc, 'b', label='Training Accuracy')  # Blue line\n",
        "plt.xlabel('Epochs')\n",
        "plt.ylabel('Accuracy')\n",
        "plt.title('Training Accuracy Over Epochs')\n",
        "plt.legend()\n",
        "\n",
        "# Plot Loss Over Epochs\n",
        "plt.subplot(1, 2, 2)  # Second subplot for loss\n",
        "plt.plot(epochs, loss, 'r', label='Training Loss')  # Red line\n",
        "plt.xlabel('Epochs')\n",
        "plt.ylabel('Loss')\n",
        "plt.title('Training Loss Over Epochs')\n",
        "plt.legend()\n",
        "\n",
        "# Show the plots\n",
        "#plt.tight_layout()  # Adjust layout for better spacing\n",
        "plt.show()"
      ]
    },
    {
      "cell_type": "markdown",
      "metadata": {
        "id": "8yZPjyHl9x32"
      },
      "source": [
        "# Generate text with the model based on a seed text\n",
        "\n",
        "Now you will create two variables :\n",
        "\n",
        "- seed_text = 'Write the text you want the model to use as a starting point to generate the next words'\n",
        "- next_words = number_of_words_you_want_the_model_to_generate\n",
        "\n",
        "Please change number_of_words_you_want_the_model_to_generate by an actual integer."
      ]
    },
    {
      "cell_type": "code",
      "execution_count": 34,
      "metadata": {
        "id": "_sq7ubtS9x33"
      },
      "outputs": [],
      "source": [
        "seed_text = \"once apon a time \"  # Input seed text\n",
        "next_words = 50  # Number of words to generate"
      ]
    },
    {
      "cell_type": "markdown",
      "metadata": {
        "id": "jPR9_1fc9x33"
      },
      "source": [
        "Now create a loop that runs based on the next_words variable and generates new text based on your seed_text input string. Print the full text with the generated text at the end.\n",
        "\n",
        "This time you dont get detailed instructions.\n",
        "\n",
        "Have fun!"
      ]
    },
    {
      "cell_type": "code",
      "execution_count": 30,
      "metadata": {
        "id": "6Vc6PHgxa6Hm",
        "tags": []
      },
      "outputs": [],
      "source": [
        "def generate_text(model, tokenizer, seed_text, next_words, max_sequence_len):\n",
        "    \"\"\"\n",
        "    Generates text using a trained LSTM model.\n",
        "\n",
        "    Arguments:\n",
        "    - model: Trained LSTM model\n",
        "    - tokenizer: Tokenizer used during training\n",
        "    - seed_text: Initial input text\n",
        "    - next_words: Number of words to generate\n",
        "    - max_sequence_len: Maximum sequence length used in training\n",
        "\n",
        "    Returns:\n",
        "    - Generated text as a string\n",
        "    \"\"\"\n",
        "\n",
        "    for _ in range(next_words):\n",
        "        # Convert current text to tokens\n",
        "        token_list = tokenizer.texts_to_sequences([seed_text])[0]\n",
        "\n",
        "        # Pad sequence to match model's expected input shape\n",
        "        token_list = pad_sequences([token_list], maxlen=max_sequence_len - 1, padding='pre')\n",
        "\n",
        "        # Predict the next word\n",
        "        predicted_probs = model.predict(token_list, verbose=0)\n",
        "        predicted_index = np.argmax(predicted_probs, axis=-1)[0]  # Get most probable word index\n",
        "\n",
        "        # Convert index to word\n",
        "        output_word = None\n",
        "        for word, index in tokenizer.word_index.items():\n",
        "            if index == predicted_index:\n",
        "                output_word = word\n",
        "                break  # Stop searching when word is found\n",
        "\n",
        "        # If no valid word is found, stop generation\n",
        "        if output_word is None:\n",
        "            break\n",
        "\n",
        "        # Append predicted word to seed text\n",
        "        seed_text += \" \" + output_word\n",
        "\n",
        "    return seed_text  # Return the final generated text"
      ]
    },
    {
      "cell_type": "code",
      "execution_count": 35,
      "metadata": {
        "colab": {
          "base_uri": "https://localhost:8080/"
        },
        "id": "6i-N7SSfg1GA",
        "outputId": "cac4c59d-ffc8-4523-cd90-8d1bfee0a754"
      },
      "outputs": [
        {
          "name": "stdout",
          "output_type": "stream",
          "text": [
            "\n",
            "Generated Text:\n",
            "\n",
            "once apon a time  holds thou be forget my cloak rhyme 'will' grow'st taken right days kind ' ' allay'd o'er foil'd where now truth twain ' alive mine ' ' thereby love ' uphold yet boast ' ' a dancing ' yield me still another doom of fine ' 'will' night boundless '\n"
          ]
        }
      ],
      "source": [
        "# Generate text\n",
        "generated_text = generate_text(model, tokenizer, seed_text, next_words, max_sequence_len)\n",
        "# Print the generated text\n",
        "print(\"\\nGenerated Text:\\n\")\n",
        "print(generated_text)"
      ]
    },
    {
      "cell_type": "markdown",
      "metadata": {
        "id": "GXkKYy-a9x33"
      },
      "source": [
        "Experiment with at least 3 different seed_text strings and see what happens!"
      ]
    },
    {
      "cell_type": "code",
      "execution_count": 36,
      "metadata": {
        "colab": {
          "base_uri": "https://localhost:8080/"
        },
        "id": "QoEZX5qd9x33",
        "outputId": "358cec9f-1ba0-48dd-c85c-9591fb69c613"
      },
      "outputs": [
        {
          "name": "stdout",
          "output_type": "stream",
          "text": [
            "\n",
            "Generated Text:\n",
            "\n",
            "the dark knight of spirits are o'er out a night leaves ' ' ' razed adulterate ' lie ' to visage sing to thee so short mine eyes more love ' loved all\n"
          ]
        }
      ],
      "source": [
        "# Define seed text and number of words to generate\n",
        "seed_text = \"the dark knight\"\n",
        "next_words = 30\n",
        "# Generate text\n",
        "generated_text = generate_text(model, tokenizer, seed_text, next_words, max_sequence_len)\n",
        "# Print the generated text\n",
        "print(\"\\nGenerated Text:\\n\")\n",
        "print(generated_text)"
      ]
    },
    {
      "cell_type": "code",
      "execution_count": 37,
      "metadata": {
        "colab": {
          "base_uri": "https://localhost:8080/"
        },
        "id": "oITKOYY2gfjY",
        "outputId": "f4c48032-d7c4-4b4f-849e-3149ea9ea69f"
      },
      "outputs": [
        {
          "name": "stdout",
          "output_type": "stream",
          "text": [
            "\n",
            "Generated Text:\n",
            "\n",
            "the blue sky  of sway laugh'd and anon chaste treasure do ' ' ' ' physic we sea's seasons' 'amen' pluck thee now be sit brand dream taken rehearse more forsworn i go ' lie thus in me\n"
          ]
        }
      ],
      "source": [
        "# Define seed text and number of words to generate\n",
        "seed_text = \"the blue sky \"\n",
        "next_words = 35\n",
        "# Generate text\n",
        "generated_text = generate_text(model, tokenizer, seed_text, next_words, max_sequence_len)\n",
        "# Print the generated text\n",
        "print(\"\\nGenerated Text:\\n\")\n",
        "print(generated_text)"
      ]
    },
    {
      "cell_type": "code",
      "execution_count": 38,
      "metadata": {
        "colab": {
          "base_uri": "https://localhost:8080/"
        },
        "id": "lRUW_Rcvhfdn",
        "outputId": "6846c3f4-2e72-4abb-fe37-5b850161cbb2"
      },
      "outputs": [
        {
          "name": "stdout",
          "output_type": "stream",
          "text": [
            "\n",
            "Generated Text:\n",
            "\n",
            "fire and ash these touches night iniquity flatter'd be taken leaves ' move ' ' till not remote fair now brand mine eyes be writ not you ' ' poet's stol'n found me\n"
          ]
        }
      ],
      "source": [
        "# Define seed text and number of words to generate\n",
        "seed_text = \"fire and ash\"\n",
        "next_words = 30\n",
        "# Generate text\n",
        "generated_text = generate_text(model, tokenizer, seed_text, next_words, max_sequence_len)\n",
        "# Print the generated text\n",
        "print(\"\\nGenerated Text:\\n\")\n",
        "print(generated_text)"
      ]
    }
  ],
  "metadata": {
    "accelerator": "GPU",
    "colab": {
      "gpuType": "T4",
      "provenance": []
    },
    "kernelspec": {
      "display_name": "Python 3",
      "name": "python3"
    },
    "language_info": {
      "codemirror_mode": {
        "name": "ipython",
        "version": 3
      },
      "file_extension": ".py",
      "mimetype": "text/x-python",
      "name": "python",
      "nbconvert_exporter": "python",
      "pygments_lexer": "ipython3",
      "version": "3.11.9"
    }
  },
  "nbformat": 4,
  "nbformat_minor": 0
}
